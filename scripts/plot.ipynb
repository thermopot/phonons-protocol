{
 "cells": [
  {
   "cell_type": "code",
   "execution_count": null,
   "metadata": {
    "ExecuteTime": {
     "end_time": "2019-06-27T08:49:26.593298Z",
     "start_time": "2019-06-27T08:49:26.293589Z"
    }
   },
   "outputs": [],
   "source": [
    "%matplotlib inline\n",
    "import json\n",
    "import numpy as np\n",
    "import matplotlib.pyplot as plt"
   ]
  },
  {
   "cell_type": "code",
   "execution_count": null,
   "metadata": {
    "tags": [
     "parameters"
    ]
   },
   "outputs": [],
   "source": [
    "input_file = 'output.json'"
   ]
  },
  {
   "cell_type": "code",
   "execution_count": null,
   "metadata": {
    "ExecuteTime": {
     "end_time": "2019-06-27T08:49:26.607508Z",
     "start_time": "2019-06-27T08:49:26.595395Z"
    }
   },
   "outputs": [],
   "source": [
    "with open(input_file, 'r') as f:\n",
    "    output_dict = json.load(f)"
   ]
  },
  {
   "cell_type": "markdown",
   "metadata": {},
   "source": [
    "# Energy Volume curve"
   ]
  },
  {
   "cell_type": "code",
   "execution_count": null,
   "metadata": {
    "ExecuteTime": {
     "end_time": "2019-06-27T08:49:27.087529Z",
     "start_time": "2019-06-27T08:49:26.615998Z"
    }
   },
   "outputs": [],
   "source": [
    "plt.title('Energy Volume curve')\n",
    "plt.plot(output_dict[\"volume_lst\"], output_dict[\"energy_lst\"], 'x-')\n",
    "plt.axvline(output_dict[\"equilibrium_volume\"], linestyle='--')\n",
    "plt.axhline(output_dict[\"equilibrium_energy\"], linestyle='--')\n",
    "plt.xlabel('Volume $\\AA ^ 3$')\n",
    "plt.ylabel('Energy eV');"
   ]
  },
  {
   "cell_type": "markdown",
   "metadata": {},
   "source": [
    "# Equilibrium Parameter"
   ]
  },
  {
   "cell_type": "code",
   "execution_count": null,
   "metadata": {
    "ExecuteTime": {
     "end_time": "2019-06-27T08:49:27.113356Z",
     "start_time": "2019-06-27T08:49:27.090701Z"
    }
   },
   "outputs": [],
   "source": [
    "print({'equilibrium_b_prime': output_dict[\"equilibrium_b_prime\"], \n",
    "       'equilibrium_bulk_modulus': output_dict[\"equilibrium_bulk_modulus\"], \n",
    "       'equilibrium_energy': output_dict[\"equilibrium_energy\"], \n",
    "       'equilibrium_volume': output_dict[\"equilibrium_volume\"]})"
   ]
  },
  {
   "cell_type": "markdown",
   "metadata": {},
   "source": [
    "# Density of states"
   ]
  },
  {
   "cell_type": "code",
   "execution_count": null,
   "metadata": {
    "ExecuteTime": {
     "end_time": "2019-06-27T08:49:27.523960Z",
     "start_time": "2019-06-27T08:49:27.124206Z"
    }
   },
   "outputs": [],
   "source": [
    "for k in output_dict.keys(): \n",
    "    if 'struct' in k:\n",
    "        plt.plot(output_dict[k][0], output_dict[k][1], label=str(np.round(output_dict[\"volume_lst\"][int(k.split('_')[1])], 3)))\n",
    "plt.legend()\n",
    "plt.xlabel('Frequency [THz]')\n",
    "plt.ylabel('DOS')\n",
    "plt.title('Phonon DOS vs Energy')"
   ]
  },
  {
   "cell_type": "code",
   "execution_count": null,
   "metadata": {},
   "outputs": [],
   "source": []
  }
 ],
 "metadata": {
  "celltoolbar": "Tags",
  "kernelspec": {
   "display_name": "Python 3",
   "language": "python",
   "name": "python3"
  },
  "language_info": {
   "codemirror_mode": {
    "name": "ipython",
    "version": 3
   },
   "file_extension": ".py",
   "mimetype": "text/x-python",
   "name": "python",
   "nbconvert_exporter": "python",
   "pygments_lexer": "ipython3",
   "version": "3.7.3"
  },
  "toc": {
   "base_numbering": 1,
   "nav_menu": {},
   "number_sections": true,
   "sideBar": true,
   "skip_h1_title": false,
   "title_cell": "Table of Contents",
   "title_sidebar": "Contents",
   "toc_cell": false,
   "toc_position": {},
   "toc_section_display": true,
   "toc_window_display": false
  }
 },
 "nbformat": 4,
 "nbformat_minor": 2
}
