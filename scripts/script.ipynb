{
 "cells": [
  {
   "cell_type": "markdown",
   "metadata": {},
   "source": [
    "# import "
   ]
  },
  {
   "cell_type": "code",
   "execution_count": null,
   "metadata": {
    "ExecuteTime": {
     "end_time": "2019-06-27T09:04:21.120543Z",
     "start_time": "2019-06-27T09:04:20.697075Z"
    }
   },
   "outputs": [],
   "source": [
    "%matplotlib inline"
   ]
  },
  {
   "cell_type": "code",
   "execution_count": null,
   "metadata": {},
   "outputs": [],
   "source": [
    "import os"
   ]
  },
  {
   "cell_type": "code",
   "execution_count": null,
   "metadata": {
    "ExecuteTime": {
     "end_time": "2019-06-27T09:04:21.129609Z",
     "start_time": "2019-06-27T09:04:21.123273Z"
    }
   },
   "outputs": [],
   "source": [
    "import json"
   ]
  },
  {
   "cell_type": "code",
   "execution_count": null,
   "metadata": {
    "ExecuteTime": {
     "end_time": "2019-06-27T09:04:21.517400Z",
     "start_time": "2019-06-27T09:04:21.135493Z"
    }
   },
   "outputs": [],
   "source": [
    "import pandas "
   ]
  },
  {
   "cell_type": "code",
   "execution_count": null,
   "metadata": {
    "ExecuteTime": {
     "end_time": "2019-06-27T09:04:21.525895Z",
     "start_time": "2019-06-27T09:04:21.521746Z"
    }
   },
   "outputs": [],
   "source": [
    "import matplotlib.pyplot as plt"
   ]
  },
  {
   "cell_type": "code",
   "execution_count": null,
   "metadata": {
    "ExecuteTime": {
     "end_time": "2019-06-27T09:04:22.512961Z",
     "start_time": "2019-06-27T09:04:21.530961Z"
    }
   },
   "outputs": [],
   "source": [
    "from pyiron import Project"
   ]
  },
  {
   "cell_type": "code",
   "execution_count": null,
   "metadata": {
    "tags": [
     "parameters"
    ]
   },
   "outputs": [],
   "source": [
    "input_file = \"input.json\"\n",
    "output_file = 'output.json'"
   ]
  },
  {
   "cell_type": "code",
   "execution_count": null,
   "metadata": {
    "ExecuteTime": {
     "end_time": "2019-06-27T09:04:22.523790Z",
     "start_time": "2019-06-27T09:04:22.516225Z"
    }
   },
   "outputs": [],
   "source": [
    "def pot_dict_to_pyiron_pot(pot_dict):\n",
    "    if 'model' not in pot_dict.keys():\n",
    "        pot_dict['model'] = 'Lammps'\n",
    "    if 'name' not in pot_dict.keys():\n",
    "        pot_dict['name'] = 'CustomPotential'\n",
    "    return pandas.DataFrame({'Config': [pot_dict['config']],\n",
    "                             'Filename': [os.path.abspath(pot_dict['filename'])],\n",
    "                             'Model': [pot_dict['model']],\n",
    "                             'Name': [pot_dict['name']],\n",
    "                             'Species': [pot_dict['species']]\n",
    "                             })"
   ]
  },
  {
   "cell_type": "code",
   "execution_count": null,
   "metadata": {
    "ExecuteTime": {
     "end_time": "2019-06-27T09:04:22.533644Z",
     "start_time": "2019-06-27T09:04:22.528623Z"
    }
   },
   "outputs": [],
   "source": [
    "with open(input_file, 'r') as f:\n",
    "    input_dict = json.load(f)"
   ]
  },
  {
   "cell_type": "markdown",
   "metadata": {},
   "source": [
    "# project"
   ]
  },
  {
   "cell_type": "code",
   "execution_count": null,
   "metadata": {
    "ExecuteTime": {
     "end_time": "2019-06-27T09:04:22.872792Z",
     "start_time": "2019-06-27T09:04:22.538089Z"
    }
   },
   "outputs": [],
   "source": [
    "if 'path' in input_dict.keys():\n",
    "    pr = Project(input_dict['path'])\n",
    "else: \n",
    "    pr = Project('calculation')\n",
    "potential = pot_dict_to_pyiron_pot(pot_dict=input_dict)\n",
    "element = input_dict['element']"
   ]
  },
  {
   "cell_type": "code",
   "execution_count": null,
   "metadata": {
    "ExecuteTime": {
     "end_time": "2019-06-27T09:04:23.579165Z",
     "start_time": "2019-06-27T09:04:22.876215Z"
    }
   },
   "outputs": [],
   "source": [
    "pr.remove_jobs(recursive=True)"
   ]
  },
  {
   "cell_type": "code",
   "execution_count": null,
   "metadata": {
    "ExecuteTime": {
     "end_time": "2019-06-27T09:04:23.638713Z",
     "start_time": "2019-06-27T09:04:23.582481Z"
    }
   },
   "outputs": [],
   "source": [
    "structure = pr.create_ase_bulk(element, cubic=True)"
   ]
  },
  {
   "cell_type": "markdown",
   "metadata": {},
   "source": [
    "# workflow"
   ]
  },
  {
   "cell_type": "markdown",
   "metadata": {},
   "source": [
    "## minimize "
   ]
  },
  {
   "cell_type": "code",
   "execution_count": null,
   "metadata": {
    "ExecuteTime": {
     "end_time": "2019-06-27T09:04:23.663549Z",
     "start_time": "2019-06-27T09:04:23.640815Z"
    }
   },
   "outputs": [],
   "source": [
    "job_mini = pr.create_job(pr.job_type.Lammps, 'lmp_mini')\n",
    "job_mini.structure = structure\n",
    "job_mini.potential = potential\n",
    "job_mini.calc_minimize(pressure=0)\n",
    "job_mini.server.run_mode.interactive = True "
   ]
  },
  {
   "cell_type": "markdown",
   "metadata": {},
   "source": [
    "## murngaghan"
   ]
  },
  {
   "cell_type": "code",
   "execution_count": null,
   "metadata": {
    "ExecuteTime": {
     "end_time": "2019-06-27T09:04:23.684646Z",
     "start_time": "2019-06-27T09:04:23.666608Z"
    }
   },
   "outputs": [],
   "source": [
    "job = pr.create_job(pr.job_type.Lammps, 'lmp_murn')\n",
    "job.potential = potential\n",
    "job.server.run_mode.interactive = True  "
   ]
  },
  {
   "cell_type": "code",
   "execution_count": null,
   "metadata": {
    "ExecuteTime": {
     "end_time": "2019-06-27T09:04:23.726120Z",
     "start_time": "2019-06-27T09:04:23.691401Z"
    }
   },
   "outputs": [],
   "source": [
    "murn = job.create_job(pr.job_type.Murnaghan, 'murn')"
   ]
  },
  {
   "cell_type": "markdown",
   "metadata": {},
   "source": [
    "## phonons for each volume of the murnaghan"
   ]
  },
  {
   "cell_type": "code",
   "execution_count": null,
   "metadata": {
    "ExecuteTime": {
     "end_time": "2019-06-27T09:04:23.752560Z",
     "start_time": "2019-06-27T09:04:23.729450Z"
    }
   },
   "outputs": [],
   "source": [
    "job = pr.create_job(pr.job_type.Lammps, 'lmp_phono')\n",
    "job.potential = potential\n",
    "job.server.run_mode.interactive = True "
   ]
  },
  {
   "cell_type": "code",
   "execution_count": null,
   "metadata": {
    "ExecuteTime": {
     "end_time": "2019-06-27T09:04:23.776285Z",
     "start_time": "2019-06-27T09:04:23.757235Z"
    }
   },
   "outputs": [],
   "source": [
    "phono = job.create_job(pr.job_type.PhonopyJob, 'phono')"
   ]
  },
  {
   "cell_type": "code",
   "execution_count": null,
   "metadata": {
    "ExecuteTime": {
     "end_time": "2019-06-27T09:04:23.802280Z",
     "start_time": "2019-06-27T09:04:23.781752Z"
    }
   },
   "outputs": [],
   "source": [
    "struct_master = phono.create_job(pr.job_type.StructureListMaster, 'struct_master')"
   ]
  },
  {
   "cell_type": "markdown",
   "metadata": {},
   "source": [
    "## workflow configuration"
   ]
  },
  {
   "cell_type": "code",
   "execution_count": null,
   "metadata": {
    "ExecuteTime": {
     "end_time": "2019-06-27T09:04:23.815037Z",
     "start_time": "2019-06-27T09:04:23.808723Z"
    }
   },
   "outputs": [],
   "source": [
    "def step_one_to_two(job_1, job_2):\n",
    "    job_2.structure = job_1.get_final_structure()"
   ]
  },
  {
   "cell_type": "code",
   "execution_count": null,
   "metadata": {
    "ExecuteTime": {
     "end_time": "2019-06-27T09:04:23.821644Z",
     "start_time": "2019-06-27T09:04:23.818276Z"
    }
   },
   "outputs": [],
   "source": [
    "def step_two_to_there(job_2, job_3):\n",
    "    job_3.structure_lst = job_2.list_structures()"
   ]
  },
  {
   "cell_type": "code",
   "execution_count": null,
   "metadata": {
    "ExecuteTime": {
     "end_time": "2019-06-27T09:04:23.849711Z",
     "start_time": "2019-06-27T09:04:23.830255Z"
    }
   },
   "outputs": [],
   "source": [
    "job_lst_master = pr.create_job(pr.job_type.FlexibleMaster, 'lstmaster')\n",
    "job_lst_master.append(job_mini)\n",
    "job_lst_master.function_lst.append(step_one_to_two)\n",
    "job_lst_master.append(murn)\n",
    "job_lst_master.function_lst.append(step_two_to_there)\n",
    "job_lst_master.append(struct_master)"
   ]
  },
  {
   "cell_type": "markdown",
   "metadata": {},
   "source": [
    "# execution"
   ]
  },
  {
   "cell_type": "code",
   "execution_count": null,
   "metadata": {
    "ExecuteTime": {
     "end_time": "2019-06-27T09:05:14.107651Z",
     "start_time": "2019-06-27T09:04:23.854571Z"
    }
   },
   "outputs": [],
   "source": [
    "job_lst_master.run()"
   ]
  },
  {
   "cell_type": "code",
   "execution_count": null,
   "metadata": {
    "ExecuteTime": {
     "end_time": "2019-06-27T09:05:14.149380Z",
     "start_time": "2019-06-27T09:05:14.127050Z"
    }
   },
   "outputs": [],
   "source": [
    "df = pr.job_table()"
   ]
  },
  {
   "cell_type": "markdown",
   "metadata": {},
   "source": [
    "# storage"
   ]
  },
  {
   "cell_type": "code",
   "execution_count": null,
   "metadata": {
    "ExecuteTime": {
     "end_time": "2019-06-27T09:05:14.157941Z",
     "start_time": "2019-06-27T09:05:14.152460Z"
    }
   },
   "outputs": [],
   "source": [
    "murn = pr.inspect('murn')"
   ]
  },
  {
   "cell_type": "code",
   "execution_count": null,
   "metadata": {
    "ExecuteTime": {
     "end_time": "2019-06-27T09:05:14.175312Z",
     "start_time": "2019-06-27T09:05:14.161685Z"
    }
   },
   "outputs": [],
   "source": [
    "output_dict = {'volume_lst': murn['output/volume'].tolist(), \n",
    "              'energy_lst': murn['output/energy'].tolist()}"
   ]
  },
  {
   "cell_type": "code",
   "execution_count": null,
   "metadata": {
    "ExecuteTime": {
     "end_time": "2019-06-27T09:05:14.181466Z",
     "start_time": "2019-06-27T09:05:14.177643Z"
    }
   },
   "outputs": [],
   "source": [
    "def store_equlibrium_output(murn, output_dict, key): \n",
    "    if key in murn['output'].list_nodes():\n",
    "        output_dict[key] = murn['output/' + key]\n",
    "    else: \n",
    "        output_dict[key] = 0.0"
   ]
  },
  {
   "cell_type": "code",
   "execution_count": null,
   "metadata": {
    "ExecuteTime": {
     "end_time": "2019-06-27T09:05:14.311652Z",
     "start_time": "2019-06-27T09:05:14.183483Z"
    }
   },
   "outputs": [],
   "source": [
    "store_equlibrium_output(murn=murn, output_dict=output_dict, key='equilibrium_b_prime')\n",
    "store_equlibrium_output(murn=murn, output_dict=output_dict, key='equilibrium_bulk_modulus')\n",
    "store_equlibrium_output(murn=murn, output_dict=output_dict, key='equilibrium_energy')\n",
    "store_equlibrium_output(murn=murn, output_dict=output_dict, key='equilibrium_volume')"
   ]
  },
  {
   "cell_type": "code",
   "execution_count": null,
   "metadata": {
    "ExecuteTime": {
     "end_time": "2019-06-27T09:05:29.472948Z",
     "start_time": "2019-06-27T09:05:29.319321Z"
    }
   },
   "outputs": [],
   "source": [
    "for job_id in df[df.hamilton == 'PhonopyJob'].id.values:\n",
    "    job = pr.inspect(job_id)\n",
    "    output_dict[job.job_name] = [job['output/dos_energies'].tolist(), job['output/dos_total'].tolist()]"
   ]
  },
  {
   "cell_type": "code",
   "execution_count": null,
   "metadata": {
    "ExecuteTime": {
     "end_time": "2019-06-27T09:05:34.469297Z",
     "start_time": "2019-06-27T09:05:34.446000Z"
    }
   },
   "outputs": [],
   "source": [
    "with open(output_file, 'w') as f:\n",
    "    json.dump(output_dict, f)"
   ]
  },
  {
   "cell_type": "code",
   "execution_count": null,
   "metadata": {},
   "outputs": [],
   "source": []
  }
 ],
 "metadata": {
  "celltoolbar": "Tags",
  "kernelspec": {
   "display_name": "Python 3",
   "language": "python",
   "name": "python3"
  },
  "language_info": {
   "codemirror_mode": {
    "name": "ipython",
    "version": 3
   },
   "file_extension": ".py",
   "mimetype": "text/x-python",
   "name": "python",
   "nbconvert_exporter": "python",
   "pygments_lexer": "ipython3",
   "version": "3.7.3"
  },
  "toc": {
   "base_numbering": 1,
   "nav_menu": {},
   "number_sections": true,
   "sideBar": true,
   "skip_h1_title": false,
   "title_cell": "Table of Contents",
   "title_sidebar": "Contents",
   "toc_cell": false,
   "toc_position": {},
   "toc_section_display": true,
   "toc_window_display": false
  }
 },
 "nbformat": 4,
 "nbformat_minor": 2
}
